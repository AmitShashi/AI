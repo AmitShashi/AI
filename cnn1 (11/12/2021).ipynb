{
  "nbformat": 4,
  "nbformat_minor": 0,
  "metadata": {
    "colab": {
      "name": "cnn1.ipynb",
      "provenance": [],
      "collapsed_sections": [],
      "authorship_tag": "ABX9TyPR8d2DiP/fx2bvpEjldJ/f",
      "include_colab_link": true
    },
    "kernelspec": {
      "name": "python3",
      "display_name": "Python 3"
    },
    "language_info": {
      "name": "python"
    },
    "accelerator": "GPU"
  },
  "cells": [
    {
      "cell_type": "markdown",
      "metadata": {
        "id": "view-in-github",
        "colab_type": "text"
      },
      "source": [
        "<a href=\"https://colab.research.google.com/github/AmitShashi/AI/blob/main/cnn1%20(11/12/2021).ipynb\" target=\"_parent\"><img src=\"https://colab.research.google.com/assets/colab-badge.svg\" alt=\"Open In Colab\"/></a>"
      ]
    },
    {
      "cell_type": "code",
      "metadata": {
        "id": "kPhCKP7xkKm8",
        "colab": {
          "base_uri": "https://localhost:8080/",
          "height": 35
        },
        "outputId": "18b68678-322f-4150-d5a5-b29d98d2e0ce"
      },
      "source": [
        "#import libraries\n",
        "import numpy as np\n",
        "import pandas as pd\n",
        "import matplotlib.pyplot as plt\n",
        "%matplotlib inline\n",
        "\n",
        "import sklearn as sk\n",
        "import tensorflow as tf\n",
        "import tensorflow_datasets as tfds\n",
        "from tensorflow import keras\n",
        "from tensorflow.keras import datasets, layers, models, Sequential\n",
        "\n",
        "from keras.models import Sequential\n",
        "from keras.layers import Flatten, Dense, Activation #,Conv2D, MaxPooling2D\n",
        "\n",
        "tf.__version__"
      ],
      "execution_count": 37,
      "outputs": [
        {
          "output_type": "execute_result",
          "data": {
            "application/vnd.google.colaboratory.intrinsic+json": {
              "type": "string"
            },
            "text/plain": [
              "'2.7.0'"
            ]
          },
          "metadata": {},
          "execution_count": 37
        }
      ]
    },
    {
      "cell_type": "code",
      "metadata": {
        "id": "t_eSWNeJA00w"
      },
      "source": [
        "#data loading\n",
        "#data splitting\n",
        "(training_images, training_labels), (test_images,test_labels)= keras.datasets.fashion_mnist.load_data()"
      ],
      "execution_count": 38,
      "outputs": []
    },
    {
      "cell_type": "code",
      "metadata": {
        "id": "9v5nsx24RA5I"
      },
      "source": [
        "#creating validation set\n",
        "(validation_images, training_images) = training_images[:5000],training_images[5000:]\n",
        "(validation_labels, training_labels) = training_labels[:5000],training_labels[5000:]"
      ],
      "execution_count": 39,
      "outputs": []
    },
    {
      "cell_type": "code",
      "metadata": {
        "id": "erDQlEtcBvzT",
        "colab": {
          "base_uri": "https://localhost:8080/"
        },
        "outputId": "4b1b7b1f-07f4-4074-885e-1aa9885ab678"
      },
      "source": [
        "#data exploration\n",
        "print(training_images.shape,\" \",training_images.dtype)\n",
        "print(test_images.shape,\" \",test_images.dtype)\n",
        "print(validation_images.shape,\" \",validation_images.dtype)\n",
        "#data exploration\n",
        "print(training_labels.shape,\" \",training_labels.dtype)\n",
        "print(test_labels.shape,\" \",test_labels.dtype)\n",
        "print(validation_labels.shape,\" \",validation_labels.dtype)"
      ],
      "execution_count": 40,
      "outputs": [
        {
          "output_type": "stream",
          "name": "stdout",
          "text": [
            "(55000, 28, 28)   uint8\n",
            "(10000, 28, 28)   uint8\n",
            "(5000, 28, 28)   uint8\n",
            "(55000,)   uint8\n",
            "(10000,)   uint8\n",
            "(5000,)   uint8\n"
          ]
        }
      ]
    },
    {
      "cell_type": "code",
      "source": [
        "plt.imshow(training_images[0])"
      ],
      "metadata": {
        "colab": {
          "base_uri": "https://localhost:8080/",
          "height": 282
        },
        "id": "J3s88BU6FMRR",
        "outputId": "ca26a307-d438-493c-f620-7f80facc95e0"
      },
      "execution_count": 41,
      "outputs": [
        {
          "output_type": "execute_result",
          "data": {
            "text/plain": [
              "<matplotlib.image.AxesImage at 0x7f36b80c2950>"
            ]
          },
          "metadata": {},
          "execution_count": 41
        },
        {
          "output_type": "display_data",
          "data": {
            "image/png": "[encoded data removed]",
            "text/plain": [
              "<Figure size 432x288 with 1 Axes>"
            ]
          },
          "metadata": {
            "needs_background": "light"
          }
        }
      ]
    },
    {
      "cell_type": "code",
      "metadata": {
        "id": "yva-5ZsvLZGZ"
      },
      "source": [
        "#data normalization\n",
        "training_images=training_images/255\n",
        "test_images=test_images/255\n",
        "validation_images=validation_images/255"
      ],
      "execution_count": 42,
      "outputs": []
    },
    {
      "cell_type": "code",
      "metadata": {
        "id": "hE06Gke841j2",
        "colab": {
          "base_uri": "https://localhost:8080/"
        },
        "outputId": "2aef27d9-ffec-4856-ebf2-46e3b415bae8"
      },
      "source": [
        "#plt.imshow(training_images[0])\n",
        "print(\"training_images.shape:   \", training_images.shape,\"   training_images.dtype:   \",training_images.dtype,\"   \")\n",
        "print(\"training_labels.shape:   \", training_labels.shape,\"          training_labels.dtype:   \",training_labels.dtype,\"   \")"
      ],
      "execution_count": 43,
      "outputs": [
        {
          "output_type": "stream",
          "name": "stdout",
          "text": [
            "training_images.shape:    (55000, 28, 28)    training_images.dtype:    float64    \n",
            "training_labels.shape:    (55000,)           training_labels.dtype:    uint8    \n"
          ]
        }
      ]
    },
    {
      "cell_type": "code",
      "metadata": {
        "id": "XJxkq386Tufb",
        "colab": {
          "base_uri": "https://localhost:8080/"
        },
        "outputId": "43a52550-0134-4b58-ebf2-fa33922d08db"
      },
      "source": [
        "#data exploration\n",
        "print(training_images.shape)\n",
        "print(training_images.dtype)\n",
        "print(test_images.shape)\n",
        "print(test_images.dtype)\n",
        "print(validation_images.shape)\n",
        "print(validation_images.dtype)\n",
        "#-----------------------------\n",
        "print(training_labels.shape)\n",
        "print(training_labels.dtype)\n",
        "print(test_labels.shape)\n",
        "print(test_labels.dtype)\n",
        "print(validation_labels.shape)\n",
        "print(validation_labels.dtype)"
      ],
      "execution_count": 44,
      "outputs": [
        {
          "output_type": "stream",
          "name": "stdout",
          "text": [
            "(55000, 28, 28)\n",
            "float64\n",
            "(10000, 28, 28)\n",
            "float64\n",
            "(5000, 28, 28)\n",
            "float64\n",
            "(55000,)\n",
            "uint8\n",
            "(10000,)\n",
            "uint8\n",
            "(5000,)\n",
            "uint8\n"
          ]
        }
      ]
    },
    {
      "cell_type": "code",
      "source": [
        "plt.imshow(training_images[0])"
      ],
      "metadata": {
        "colab": {
          "base_uri": "https://localhost:8080/",
          "height": 282
        },
        "id": "1uHaGn4dE_8N",
        "outputId": "17168909-7819-4a89-d1e1-909a7de017e1"
      },
      "execution_count": 45,
      "outputs": [
        {
          "output_type": "execute_result",
          "data": {
            "text/plain": [
              "<matplotlib.image.AxesImage at 0x7f36b8033590>"
            ]
          },
          "metadata": {},
          "execution_count": 45
        },
        {
          "output_type": "display_data",
          "data": {
            "image/png": "[encoded data removed]",
            "text/plain": [
              "<Figure size 432x288 with 1 Axes>"
            ]
          },
          "metadata": {
            "needs_background": "light"
          }
        }
      ]
    },
    {
      "cell_type": "code",
      "metadata": {
        "id": "uoI8XouwY3rj"
      },
      "source": [
        "#reshape\n",
        "training_images=training_images.reshape(-1,28,28,1)\n",
        "test_images=test_images.reshape(-1,28,28,1)\n",
        "validation_images=validation_images.reshape(-1,28,28,1)"
      ],
      "execution_count": 46,
      "outputs": []
    },
    {
      "cell_type": "code",
      "source": [
        "#NOTE: >>can't use plt.imshow(training_images[0]) after reshaping for image viewing"
      ],
      "metadata": {
        "id": "ijq9m7JmFceH"
      },
      "execution_count": null,
      "outputs": []
    },
    {
      "cell_type": "code",
      "metadata": {
        "id": "zmNbDw5bMiZF"
      },
      "source": [
        "model = keras.models.Sequential([\n",
        "                                 \n",
        "                    #layers.Conv2D(300,(3,3),activation=\"tanh\",input_shape=(28,28,1)),\n",
        "                    #layers.MaxPooling2D(2,2),\n",
        "                                 \n",
        "                    #Input shape has (batch_size, height, width, channels). \n",
        "                    #Incase of RGB image would have a channel of 3 and the greyscale image would have a channel of 1.\n",
        "\n",
        "                    layers.Conv2D(filters=32, kernel_size=(3, 3), activation='relu',input_shape=(28,28,1)),\n",
        "                    layers.MaxPooling2D((2, 2)),               \n",
        "\n",
        "                    layers.Conv2D(filters=64, kernel_size=(3, 3), activation='relu'), \n",
        "                    layers.MaxPooling2D((2, 2)),\n",
        "\n",
        "                    layers.Flatten(),\n",
        "\n",
        "                    layers.Dense(200,activation=\"relu\"),\n",
        "                    layers.Dense(180,activation=\"relu\"),\n",
        "                    layers.Dense(100,activation=\"relu\"),\n",
        "                    layers.Dense(50,activation=\"relu\"),\n",
        "                    layers.Dense(10,activation=\"softmax\")\n",
        "])"
      ],
      "execution_count": 48,
      "outputs": []
    },
    {
      "cell_type": "code",
      "source": [
        ""
      ],
      "metadata": {
        "id": "J0k-wdTTFbP3"
      },
      "execution_count": 48,
      "outputs": []
    },
    {
      "cell_type": "code",
      "metadata": {
        "id": "bG176rvhX1IE"
      },
      "source": [
        "#compile model\n",
        "model.compile(loss=\"sparse_categorical_crossentropy\",optimizer=\"adam\",metrics=[\"accuracy\"])"
      ],
      "execution_count": 49,
      "outputs": []
    },
    {
      "cell_type": "code",
      "metadata": {
        "id": "59cb7kakZp1I",
        "colab": {
          "base_uri": "https://localhost:8080/"
        },
        "outputId": "d4de3054-1394-4661-a966-372ec4889e75"
      },
      "source": [
        "#fit model\n",
        "model.fit(training_images,training_labels,epochs=10)"
      ],
      "execution_count": 50,
      "outputs": [
        {
          "output_type": "stream",
          "name": "stdout",
          "text": [
            "Epoch 1/10\n",
            "1719/1719 [==============================] - 12s 7ms/step - loss: 0.4986 - accuracy: 0.8129\n",
            "Epoch 2/10\n",
            "1719/1719 [==============================] - 12s 7ms/step - loss: 0.3157 - accuracy: 0.8842\n",
            "Epoch 3/10\n",
            "1719/1719 [==============================] - 12s 7ms/step - loss: 0.2657 - accuracy: 0.9020\n",
            "Epoch 4/10\n",
            "1719/1719 [==============================] - 12s 7ms/step - loss: 0.2352 - accuracy: 0.9135\n",
            "Epoch 5/10\n",
            "1719/1719 [==============================] - 12s 7ms/step - loss: 0.2048 - accuracy: 0.9233\n",
            "Epoch 6/10\n",
            "1719/1719 [==============================] - 11s 7ms/step - loss: 0.1837 - accuracy: 0.9319\n",
            "Epoch 7/10\n",
            "1719/1719 [==============================] - 12s 7ms/step - loss: 0.1649 - accuracy: 0.9385\n",
            "Epoch 8/10\n",
            "1719/1719 [==============================] - 12s 7ms/step - loss: 0.1477 - accuracy: 0.9447\n",
            "Epoch 9/10\n",
            "1719/1719 [==============================] - 11s 7ms/step - loss: 0.1358 - accuracy: 0.9487\n",
            "Epoch 10/10\n",
            "1719/1719 [==============================] - 11s 7ms/step - loss: 0.1234 - accuracy: 0.9540\n"
          ]
        },
        {
          "output_type": "execute_result",
          "data": {
            "text/plain": [
              "<keras.callbacks.History at 0x7f36b7f76410>"
            ]
          },
          "metadata": {},
          "execution_count": 50
        }
      ]
    },
    {
      "cell_type": "code",
      "metadata": {
        "id": "JjKyBta1d-cd",
        "colab": {
          "base_uri": "https://localhost:8080/"
        },
        "outputId": "3bdb7656-0580-4e98-9be8-648a2ec550b5"
      },
      "source": [
        "#prediction/evaluation\n",
        "model.evaluate(test_images,test_labels)\n",
        "model.evaluate(validation_images,validation_labels)"
      ],
      "execution_count": 83,
      "outputs": [
        {
          "output_type": "stream",
          "name": "stdout",
          "text": [
            "313/313 [==============================] - 1s 4ms/step - loss: 0.2744 - accuracy: 0.9136\n",
            "157/157 [==============================] - 1s 4ms/step - loss: 0.2589 - accuracy: 0.9120\n"
          ]
        },
        {
          "output_type": "execute_result",
          "data": {
            "text/plain": [
              "[0.2588546574115753, 0.9120000004768372]"
            ]
          },
          "metadata": {},
          "execution_count": 83
        }
      ]
    },
    {
      "cell_type": "code",
      "source": [
        "k=model.predict(test_images[0:5])\n",
        "print(\"Prediction: \")\n",
        "print(\"-------------------------------\")\n",
        "print(np.argmax(k[0]),np.argmax(k[1]),np.argmax(k[2]),np.argmax(k[3]),np.argmax(k[4]))\n",
        "print(\"-------------------------------\")\n",
        "print(\"Answer: \",test_labels[0:5])"
      ],
      "metadata": {
        "colab": {
          "base_uri": "https://localhost:8080/"
        },
        "id": "kBOFzc4DD6tH",
        "outputId": "9063e0aa-9d13-49d2-bcbc-a1e8b226b43a"
      },
      "execution_count": 88,
      "outputs": [
        {
          "output_type": "stream",
          "name": "stdout",
          "text": [
            "Prediction: \n",
            "-------------------------------\n",
            "9 2 1 1 6\n",
            "-------------------------------\n",
            "Answer:  [9 2 1 1 6]\n"
          ]
        }
      ]
    },
    {
      "cell_type": "code",
      "metadata": {
        "id": "_FcUoHcbXMpV"
      },
      "source": [
        "#summary\n",
        "model.summary()"
      ],
      "execution_count": null,
      "outputs": []
    },
    {
      "cell_type": "code",
      "source": [
        ""
      ],
      "metadata": {
        "id": "N2b1z0OFEZuI"
      },
      "execution_count": null,
      "outputs": []
    }
  ]
}