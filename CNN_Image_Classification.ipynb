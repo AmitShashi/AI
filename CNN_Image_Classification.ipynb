{
  "nbformat": 4,
  "nbformat_minor": 0,
  "metadata": {
    "colab": {
      "name": "CNN-Image_Classification.ipynb",
      "provenance": [],
      "collapsed_sections": [],
      "toc_visible": true,
      "authorship_tag": "ABX9TyOFd8iazKRzADOEgvY6yWq3",
      "include_colab_link": true
    },
    "kernelspec": {
      "name": "python3",
      "display_name": "Python 3"
    },
    "language_info": {
      "name": "python"
    },
    "accelerator": "GPU"
  },
  "cells": [
    {
      "cell_type": "markdown",
      "metadata": {
        "id": "view-in-github",
        "colab_type": "text"
      },
      "source": [
        "<a href=\"https://colab.research.google.com/github/AmitShashi/AI/blob/main/CNN_Image_Classification.ipynb\" target=\"_parent\"><img src=\"https://colab.research.google.com/assets/colab-badge.svg\" alt=\"Open In Colab\"/></a>"
      ]
    },
    {
      "cell_type": "code",
      "metadata": {
        "id": "kPhCKP7xkKm8",
        "colab": {
          "base_uri": "https://localhost:8080/",
          "height": 35
        },
        "outputId": "7c58168d-9c3d-40d2-e5a7-eddcda3be9a6"
      },
      "source": [
        "import numpy as np\n",
        "import pandas as pd\n",
        "import matplotlib.pyplot as plt\n",
        "%matplotlib inline\n",
        "import sklearn as sk\n",
        "import tensorflow as tf\n",
        "import tensorflow_datasets as tfds\n",
        "from tensorflow import keras\n",
        "from tensorflow.keras import datasets, layers, models, Sequential\n",
        "\n",
        "from keras.models import Sequential\n",
        "from keras.layers import Flatten, Dense, Activation #,Conv2D, MaxPooling2D\n",
        "\n",
        "tf.__version__"
      ],
      "execution_count": null,
      "outputs": [
        {
          "output_type": "execute_result",
          "data": {
            "application/vnd.google.colaboratory.intrinsic+json": {
              "type": "string"
            },
            "text/plain": [
              "'2.5.0'"
            ]
          },
          "metadata": {
            "tags": []
          },
          "execution_count": 1
        }
      ]
    },
    {
      "cell_type": "code",
      "metadata": {
        "id": "t_eSWNeJA00w"
      },
      "source": [
        "#data loading\n",
        "#data splitting\n",
        "(training_images, training_labels), (test_images,test_labels)= keras.datasets.fashion_mnist.load_data()"
      ],
      "execution_count": null,
      "outputs": []
    },
    {
      "cell_type": "code",
      "metadata": {
        "id": "9v5nsx24RA5I"
      },
      "source": [
        "#creating validation set\n",
        "(validation_images, training_images) = training_images[:5000],training_images[5000:]\n",
        "(validation_labels, training_labels) = training_labels[:5000],training_labels[5000:]"
      ],
      "execution_count": null,
      "outputs": []
    },
    {
      "cell_type": "code",
      "metadata": {
        "colab": {
          "base_uri": "https://localhost:8080/"
        },
        "id": "erDQlEtcBvzT",
        "outputId": "8e5c625c-3da0-4aa3-b71f-cace7169faf7"
      },
      "source": [
        "#data exploration\n",
        "print(training_images.shape,\" \",training_images.dtype)\n",
        "print(test_images.shape,\" \",test_images.dtype)\n",
        "print(validation_images.shape,\" \",validation_images.dtype)\n",
        "#data exploration\n",
        "print(training_labels.shape,\" \",training_labels.dtype)\n",
        "print(test_labels.shape,\" \",test_labels.dtype)\n",
        "print(validation_labels.shape,\" \",validation_labels.dtype)"
      ],
      "execution_count": null,
      "outputs": [
        {
          "output_type": "stream",
          "text": [
            "(55000, 28, 28)   uint8\n",
            "(10000, 28, 28)   uint8\n",
            "(5000, 28, 28)   uint8\n",
            "(55000,)   uint8\n",
            "(10000,)   uint8\n",
            "(5000,)   uint8\n"
          ],
          "name": "stdout"
        }
      ]
    },
    {
      "cell_type": "code",
      "metadata": {
        "id": "yva-5ZsvLZGZ"
      },
      "source": [
        "#data normalization\n",
        "training_images=training_images/255\n",
        "test_images=test_images/255\n",
        "validation_images=validation_images/255\n",
        "\n",
        "#training_labels=training_labels/9\n",
        "#test_labels=test_labels/9\n",
        "#validation_labels=validation_labels/9"
      ],
      "execution_count": null,
      "outputs": []
    },
    {
      "cell_type": "code",
      "metadata": {
        "colab": {
          "base_uri": "https://localhost:8080/"
        },
        "id": "hE06Gke841j2",
        "outputId": "0dcdce78-1941-45ae-db7c-44005beeb55b"
      },
      "source": [
        "#plt.imshow(training_images[0])\n",
        "print(\"training_images.shape:   \", training_images.shape,\"   training_images.dtype:   \",training_images.dtype,\"   \")\n",
        "print(\"training_labels.shape:   \", training_labels.shape,\"          training_labels.dtype:   \",training_labels.dtype,\"   \")"
      ],
      "execution_count": null,
      "outputs": [
        {
          "output_type": "stream",
          "text": [
            "training_images.shape:    (55000, 28, 28)    training_images.dtype:    float64    \n",
            "training_labels.shape:    (55000,)           training_labels.dtype:    uint8    \n"
          ],
          "name": "stdout"
        }
      ]
    },
    {
      "cell_type": "code",
      "metadata": {
        "colab": {
          "base_uri": "https://localhost:8080/"
        },
        "id": "XJxkq386Tufb",
        "outputId": "e4cacd36-60dd-40ef-e6eb-2e51a98499ed"
      },
      "source": [
        "#data exploration\n",
        "print(training_images.shape)\n",
        "print(training_images.dtype)\n",
        "print(test_images.shape)\n",
        "print(test_images.dtype)\n",
        "print(validation_images.shape)\n",
        "print(validation_images.dtype)\n",
        "#-----------------------------\n",
        "print(training_labels.shape)\n",
        "print(training_labels.dtype)\n",
        "print(test_labels.shape)\n",
        "print(test_labels.dtype)\n",
        "print(validation_labels.shape)\n",
        "print(validation_labels.dtype)"
      ],
      "execution_count": null,
      "outputs": [
        {
          "output_type": "stream",
          "text": [
            "(55000, 28, 28)\n",
            "float64\n",
            "(10000, 28, 28)\n",
            "float64\n",
            "(5000, 28, 28)\n",
            "float64\n",
            "(55000,)\n",
            "uint8\n",
            "(10000,)\n",
            "uint8\n",
            "(5000,)\n",
            "uint8\n"
          ],
          "name": "stdout"
        }
      ]
    },
    {
      "cell_type": "code",
      "metadata": {
        "id": "uoI8XouwY3rj"
      },
      "source": [
        "#reshape\n",
        "training_images=training_images.reshape(-1,28,28,1)\n",
        "test_images=test_images.reshape(-1,28,28,1)\n",
        "validation_images=validation_images.reshape(-1,28,28,1)"
      ],
      "execution_count": null,
      "outputs": []
    },
    {
      "cell_type": "code",
      "metadata": {
        "id": "zmNbDw5bMiZF"
      },
      "source": [
        "model = keras.models.Sequential([\n",
        "                                 \n",
        "                                #layers.Conv2D(300,(3,3),activation=\"tanh\",input_shape=(28,28,1)),\n",
        "                                #layers.MaxPooling2D(2,2),\n",
        "\n",
        "                                layers.Conv2D(filters=32, kernel_size=(3, 3), activation='relu',input_shape=(28,28,1)),\n",
        "                                layers.MaxPooling2D((2, 2)),\n",
        "\n",
        "                                layers.Conv2D(filters=64, kernel_size=(3, 3), activation='relu'),\n",
        "                                layers.MaxPooling2D((2, 2)),\n",
        "\n",
        "                                 layers.Flatten(),\n",
        "\n",
        "                                 layers.Dense(300,activation=\"relu\"),\n",
        "                                 layers.Dense(200,activation=\"relu\"),\n",
        "                                 layers.Dense(100,activation=\"relu\"),\n",
        "                                 layers.Dense(50,activation=\"relu\"),\n",
        "                                 layers.Dense(10,activation=\"softmax\")\n",
        "])"
      ],
      "execution_count": null,
      "outputs": []
    },
    {
      "cell_type": "code",
      "metadata": {
        "id": "bG176rvhX1IE"
      },
      "source": [
        "#compile model\n",
        "model.compile(loss=\"sparse_categorical_crossentropy\",optimizer=\"adam\",metrics=[\"accuracy\"])"
      ],
      "execution_count": null,
      "outputs": []
    },
    {
      "cell_type": "code",
      "metadata": {
        "id": "59cb7kakZp1I",
        "colab": {
          "base_uri": "https://localhost:8080/"
        },
        "outputId": "2d6ae79d-a822-473e-e9c5-b13ddfc8b1b9"
      },
      "source": [
        "#fit model\n",
        "model.fit(training_images,training_labels,epochs=10)"
      ],
      "execution_count": null,
      "outputs": [
        {
          "output_type": "stream",
          "text": [
            "Epoch 1/10\n",
            "1719/1719 [==============================] - 11s 6ms/step - loss: 0.4831 - accuracy: 0.8194\n",
            "Epoch 2/10\n",
            "1719/1719 [==============================] - 10s 6ms/step - loss: 0.3059 - accuracy: 0.8881\n",
            "Epoch 3/10\n",
            "1719/1719 [==============================] - 10s 6ms/step - loss: 0.2593 - accuracy: 0.9053\n",
            "Epoch 4/10\n",
            "1719/1719 [==============================] - 10s 6ms/step - loss: 0.2270 - accuracy: 0.9161\n",
            "Epoch 5/10\n",
            "1719/1719 [==============================] - 10s 6ms/step - loss: 0.1991 - accuracy: 0.9253\n",
            "Epoch 6/10\n",
            "1719/1719 [==============================] - 10s 6ms/step - loss: 0.1775 - accuracy: 0.9345\n",
            "Epoch 7/10\n",
            "1719/1719 [==============================] - 10s 6ms/step - loss: 0.1554 - accuracy: 0.9411\n",
            "Epoch 8/10\n",
            "1719/1719 [==============================] - 10s 6ms/step - loss: 0.1392 - accuracy: 0.9474\n",
            "Epoch 9/10\n",
            "1719/1719 [==============================] - 10s 6ms/step - loss: 0.1229 - accuracy: 0.9532\n",
            "Epoch 10/10\n",
            "1719/1719 [==============================] - 10s 6ms/step - loss: 0.1127 - accuracy: 0.9575\n"
          ],
          "name": "stdout"
        },
        {
          "output_type": "execute_result",
          "data": {
            "text/plain": [
              "<tensorflow.python.keras.callbacks.History at 0x7f0b46023810>"
            ]
          },
          "metadata": {
            "tags": []
          },
          "execution_count": 24
        }
      ]
    },
    {
      "cell_type": "code",
      "metadata": {
        "id": "JjKyBta1d-cd",
        "colab": {
          "base_uri": "https://localhost:8080/"
        },
        "outputId": "079d109f-2c98-44a6-8ee5-3308c2833068"
      },
      "source": [
        "#prediction\n",
        "model.evaluate(test_images,test_labels)\n",
        "model.evaluate(validation_images,validation_labels)"
      ],
      "execution_count": null,
      "outputs": [
        {
          "output_type": "stream",
          "text": [
            "313/313 [==============================] - 1s 3ms/step - loss: 0.3231 - accuracy: 0.9086\n",
            "157/157 [==============================] - 1s 4ms/step - loss: 0.2929 - accuracy: 0.9118\n"
          ],
          "name": "stdout"
        },
        {
          "output_type": "execute_result",
          "data": {
            "text/plain": [
              "[0.2929314076900482, 0.9118000268936157]"
            ]
          },
          "metadata": {
            "tags": []
          },
          "execution_count": 25
        }
      ]
    },
    {
      "cell_type": "code",
      "metadata": {
        "id": "_FcUoHcbXMpV",
        "colab": {
          "base_uri": "https://localhost:8080/"
        },
        "outputId": "08210ed5-6097-4e64-eea0-bd4a8b9589d3"
      },
      "source": [
        "#summary\n",
        "model.summary()"
      ],
      "execution_count": null,
      "outputs": [
        {
          "output_type": "stream",
          "text": [
            "Model: \"sequential_1\"\n",
            "_________________________________________________________________\n",
            "Layer (type)                 Output Shape              Param #   \n",
            "=================================================================\n",
            "conv2d_2 (Conv2D)            (None, 26, 26, 32)        320       \n",
            "_________________________________________________________________\n",
            "max_pooling2d_2 (MaxPooling2 (None, 13, 13, 32)        0         \n",
            "_________________________________________________________________\n",
            "conv2d_3 (Conv2D)            (None, 11, 11, 64)        18496     \n",
            "_________________________________________________________________\n",
            "max_pooling2d_3 (MaxPooling2 (None, 5, 5, 64)          0         \n",
            "_________________________________________________________________\n",
            "flatten_1 (Flatten)          (None, 1600)              0         \n",
            "_________________________________________________________________\n",
            "dense_5 (Dense)              (None, 300)               480300    \n",
            "_________________________________________________________________\n",
            "dense_6 (Dense)              (None, 200)               60200     \n",
            "_________________________________________________________________\n",
            "dense_7 (Dense)              (None, 100)               20100     \n",
            "_________________________________________________________________\n",
            "dense_8 (Dense)              (None, 50)                5050      \n",
            "_________________________________________________________________\n",
            "dense_9 (Dense)              (None, 10)                510       \n",
            "=================================================================\n",
            "Total params: 584,976\n",
            "Trainable params: 584,976\n",
            "Non-trainable params: 0\n",
            "_________________________________________________________________\n"
          ],
          "name": "stdout"
        }
      ]
    },
    {
      "cell_type": "code",
      "metadata": {
        "id": "YNifK0d0VolI"
      },
      "source": [
        ""
      ],
      "execution_count": null,
      "outputs": []
    }
  ]
}