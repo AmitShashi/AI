{
  "nbformat": 4,
  "nbformat_minor": 0,
  "metadata": {
    "colab": {
      "name": "CNN-Image_Classification.ipynb",
      "provenance": [],
      "collapsed_sections": [],
      "toc_visible": true,
      "authorship_tag": "ABX9TyNB7R3PFu9MwmDfdKWd1U8x"
    },
    "kernelspec": {
      "name": "python3",
      "display_name": "Python 3"
    },
    "language_info": {
      "name": "python"
    }
  },
  "cells": [
    {
      "cell_type": "code",
      "metadata": {
        "id": "kPhCKP7xkKm8",
        "colab": {
          "base_uri": "https://localhost:8080/",
          "height": 35
        },
        "outputId": "4bad1625-ce7e-41ff-a566-77ef1eee2efb"
      },
      "source": [
        "import numpy as np\n",
        "import pandas as pd\n",
        "import matplotlib.pyplot as plt\n",
        "%matplotlib inline\n",
        "import sklearn as sk\n",
        "import tensorflow as tf\n",
        "import tensorflow_datasets as tfds\n",
        "from tensorflow import keras\n",
        "from tensorflow.keras import datasets, layers, models, Sequential\n",
        "\n",
        "from keras.models import Sequential\n",
        "from keras.layers import Flatten, Dense, Activation\n",
        "\n",
        "tf.__version__"
      ],
      "execution_count": 102,
      "outputs": [
        {
          "output_type": "execute_result",
          "data": {
            "application/vnd.google.colaboratory.intrinsic+json": {
              "type": "string"
            },
            "text/plain": [
              "'2.5.0'"
            ]
          },
          "metadata": {
            "tags": []
          },
          "execution_count": 102
        }
      ]
    },
    {
      "cell_type": "code",
      "metadata": {
        "id": "t_eSWNeJA00w"
      },
      "source": [
        "#data loading\n",
        "#data splitting\n",
        "(training_images, training_labels), (test_images,test_labels)= keras.datasets.fashion_mnist.load_data()"
      ],
      "execution_count": 103,
      "outputs": []
    },
    {
      "cell_type": "code",
      "metadata": {
        "id": "9v5nsx24RA5I"
      },
      "source": [
        "#creating validation set\n",
        "(validation_images, training_images) = training_images[:5000],training_images[5000:]\n",
        "(validation_labels, training_labels) = training_labels[:5000],training_labels[5000:]"
      ],
      "execution_count": 104,
      "outputs": []
    },
    {
      "cell_type": "code",
      "metadata": {
        "colab": {
          "base_uri": "https://localhost:8080/"
        },
        "id": "erDQlEtcBvzT",
        "outputId": "15144e48-dd1d-409a-f87b-64cac1279c53"
      },
      "source": [
        "#data exploration\n",
        "print(training_images.shape,\" \",training_images.dtype)\n",
        "print(test_images.shape,\" \",test_images.dtype)\n",
        "print(validation_images.shape,\" \",validation_images.dtype)\n",
        "#data exploration\n",
        "print(training_labels.shape,\" \",training_labels.dtype)\n",
        "print(test_labels.shape,\" \",test_labels.dtype)\n",
        "print(validation_labels.shape,\" \",validation_labels.dtype)"
      ],
      "execution_count": 117,
      "outputs": [
        {
          "output_type": "stream",
          "text": [
            "(55000, 28, 28)   float64\n",
            "(10000, 28, 28)   float64\n",
            "(5000, 28, 28)   float64\n",
            "(55000,)   float64\n",
            "(10000,)   float64\n",
            "(5000,)   float64\n"
          ],
          "name": "stdout"
        }
      ]
    },
    {
      "cell_type": "code",
      "metadata": {
        "id": "yva-5ZsvLZGZ"
      },
      "source": [
        "#data normalization\n",
        "training_images=training_images/255\n",
        "test_images=test_images/255\n",
        "validation_images=validation_images/255\n",
        "\n",
        "training_labels=training_labels/9\n",
        "test_labels=test_labels/9\n",
        "validation_labels=validation_labels/9"
      ],
      "execution_count": 110,
      "outputs": []
    },
    {
      "cell_type": "code",
      "metadata": {
        "colab": {
          "base_uri": "https://localhost:8080/"
        },
        "id": "hE06Gke841j2",
        "outputId": "0a3121da-e2e3-4d64-ccd4-2d28dca73a41"
      },
      "source": [
        "#plt.imshow(training_images[0])\n",
        "print(\"training_images.shape:   \", training_images.shape,\"   training_images.dtype:   \",training_images.dtype,\"   \")\n",
        "print(\"training_labels.shape:   \", training_labels.shape,\"          training_labels.dtype:   \",training_labels.dtype,\"   \")"
      ],
      "execution_count": 111,
      "outputs": [
        {
          "output_type": "stream",
          "text": [
            "training_images.shape:    (55000, 28, 28)    training_images.dtype:    float64    \n",
            "training_labels.shape:    (55000,)           training_labels.dtype:    float64    \n"
          ],
          "name": "stdout"
        }
      ]
    },
    {
      "cell_type": "code",
      "metadata": {
        "colab": {
          "base_uri": "https://localhost:8080/"
        },
        "id": "XJxkq386Tufb",
        "outputId": "5f9615ba-4cd4-4525-c9f4-0982e701fdf1"
      },
      "source": [
        "#data exploration\n",
        "print(training_images.shape)\n",
        "print(training_images.dtype)\n",
        "print(test_images.shape)\n",
        "print(test_images.dtype)\n",
        "print(validation_images.shape)\n",
        "print(validation_images.dtype)\n",
        "#-----------------------------\n",
        "print(training_labels.shape)\n",
        "print(training_labels.dtype)\n",
        "print(test_labels.shape)\n",
        "print(test_labels.dtype)\n",
        "print(validation_labels.shape)\n",
        "print(validation_labels.dtype)"
      ],
      "execution_count": 50,
      "outputs": [
        {
          "output_type": "stream",
          "text": [
            "(55000, 28, 28)\n",
            "float64\n",
            "(10000, 28, 28)\n",
            "float64\n",
            "(5000, 28, 28)\n",
            "float64\n",
            "(55000,)\n",
            "uint8\n",
            "(10000,)\n",
            "uint8\n",
            "(5000,)\n",
            "uint8\n"
          ],
          "name": "stdout"
        }
      ]
    },
    {
      "cell_type": "code",
      "metadata": {
        "id": "zmNbDw5bMiZF"
      },
      "source": [
        "model = keras.models.Sequential([\n",
        "                                 \n",
        "                                 #layers.Conv2D(300,(3,3),activation=\"tanh\",input_shape=(28,28,1)),\n",
        "                                 #layers.MaxPooling2D(2,2),\n",
        "                                 \n",
        "\n",
        "                                 layers.Conv2D(filters=32, kernel_size=(3, 3), activation='relu', input_shape=(28,28,3)),\n",
        "                                 layers.MaxPooling2D((2, 2)),\n",
        "\n",
        "                                 layers.Conv2D(filters=64, kernel_size=(3, 3), activation='relu'),\n",
        "                                 layers.MaxPooling2D((2, 2)),\n",
        "\n",
        "                                 layers.Flatten(),\n",
        "\n",
        "                                 layers.Dense(300,activation=\"tanh\"),\n",
        "                                 layers.Dense(200,activation=\"relu\"),\n",
        "                                 layers.Dense(100,activation=\"relu\"),\n",
        "\n",
        "                                 layers.Dense(10,activation=\"softmax\")\n",
        "])"
      ],
      "execution_count": 130,
      "outputs": []
    },
    {
      "cell_type": "code",
      "metadata": {
        "id": "bG176rvhX1IE"
      },
      "source": [
        "#compile model\n",
        "model.compile(loss=\"sparse_categorical_crossentropy\",optimizer=\"adam\",metrics=[\"accuracy\"])"
      ],
      "execution_count": 131,
      "outputs": []
    },
    {
      "cell_type": "code",
      "metadata": {
        "id": "59cb7kakZp1I"
      },
      "source": [
        "#fit model\n",
        "model.fit(training_images,training_labels,epochs=5)"
      ],
      "execution_count": null,
      "outputs": []
    },
    {
      "cell_type": "markdown",
      "metadata": {
        "id": "YE1o8en7FbgG"
      },
      "source": [
        "#error i am getting is:\n",
        "Epoch 1/5\n",
        "---------------------------------------------------------------------------\n",
        "ValueError                                Traceback (most recent call last)\n",
        "<ipython-input-132-4f8e7b6cb545> in <module>()\n",
        "      1 #fit model\n",
        "----> 2 model.fit(training_images,training_labels,epochs=5)\n",
        "\n",
        "9 frames\n",
        "/usr/local/lib/python3.7/dist-packages/tensorflow/python/framework/func_graph.py in wrapper(*args, **kwargs)\n",
        "    984           except Exception as e:  # pylint:disable=broad-except\n",
        "    985             if hasattr(e, \"ag_error_metadata\"):\n",
        "--> 986               raise e.ag_error_metadata.to_exception(e)\n",
        "    987             else:\n",
        "    988               raise\n",
        "\n",
        "ValueError: in user code:\n",
        "\n",
        "    /usr/local/lib/python3.7/dist-packages/tensorflow/python/keras/engine/training.py:855 train_function  *\n",
        "        return step_function(self, iterator)\n",
        "    /usr/local/lib/python3.7/dist-packages/tensorflow/python/keras/engine/training.py:845 step_function  **\n",
        "        outputs = model.distribute_strategy.run(run_step, args=(data,))\n",
        "    /usr/local/lib/python3.7/dist-packages/tensorflow/python/distribute/distribute_lib.py:1285 run\n",
        "        return self._extended.call_for_each_replica(fn, args=args, kwargs=kwargs)\n",
        "    /usr/local/lib/python3.7/dist-packages/tensorflow/python/distribute/distribute_lib.py:2833 call_for_each_replica\n",
        "        return self._call_for_each_replica(fn, args, kwargs)\n",
        "    /usr/local/lib/python3.7/dist-packages/tensorflow/python/distribute/distribute_lib.py:3608 _call_for_each_replica\n",
        "        return fn(*args, **kwargs)\n",
        "    /usr/local/lib/python3.7/dist-packages/tensorflow/python/keras/engine/training.py:838 run_step  **\n",
        "        outputs = model.train_step(data)\n",
        "    /usr/local/lib/python3.7/dist-packages/tensorflow/python/keras/engine/training.py:795 train_step\n",
        "        y_pred = self(x, training=True)\n",
        "    /usr/local/lib/python3.7/dist-packages/tensorflow/python/keras/engine/base_layer.py:1013 __call__\n",
        "        input_spec.assert_input_compatibility(self.input_spec, inputs, self.name)\n",
        "    /usr/local/lib/python3.7/dist-packages/tensorflow/python/keras/engine/input_spec.py:235 assert_input_compatibility\n",
        "        str(tuple(shape)))\n",
        "\n",
        "    ValueError: Input 0 of layer sequential_15 is incompatible with the layer: : expected min_ndim=4, found ndim=3. Full shape received: (None, 28, 28)"
      ]
    },
    {
      "cell_type": "code",
      "metadata": {
        "id": "_FcUoHcbXMpV"
      },
      "source": [
        "#summary\n",
        "model.summary()"
      ],
      "execution_count": null,
      "outputs": []
    },
    {
      "cell_type": "code",
      "metadata": {
        "id": "JjKyBta1d-cd"
      },
      "source": [
        "#prediction\n",
        "model.evaluate(test_images,test_labels)\n",
        "model.evaluate(validation_images,validation_labels)"
      ],
      "execution_count": null,
      "outputs": []
    },
    {
      "cell_type": "code",
      "metadata": {
        "id": "V1zvZiAQgQe2"
      },
      "source": [
        ""
      ],
      "execution_count": null,
      "outputs": []
    }
  ]
}